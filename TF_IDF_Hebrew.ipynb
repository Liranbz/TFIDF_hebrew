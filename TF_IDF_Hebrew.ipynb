{
  "nbformat": 4,
  "nbformat_minor": 0,
  "metadata": {
    "colab": {
      "name": "TF_IDF-Hebrew.ipynb",
      "provenance": [],
      "toc_visible": true
    },
    "kernelspec": {
      "name": "python3",
      "display_name": "Python 3"
    },
    "accelerator": "GPU"
  },
  "cells": [
    {
      "cell_type": "markdown",
      "metadata": {
        "id": "uTifrMcVmAxf",
        "colab_type": "text"
      },
      "source": [
        "Load lib."
      ]
    },
    {
      "cell_type": "code",
      "metadata": {
        "id": "WU46ZZ2sUa8Z",
        "colab_type": "code",
        "colab": {
          "base_uri": "https://localhost:8080/",
          "height": 102
        },
        "outputId": "a8d4e174-b9ed-4073-fe3e-7c0b00023346"
      },
      "source": [
        "import pandas as pd\n",
        "from sklearn.feature_extraction.text import TfidfVectorizer\n",
        "import nltk\n",
        "nltk.download('stopwords')\n",
        "from nltk.tokenize import word_tokenize \n",
        "nltk.download('punkt')\n"
      ],
      "execution_count": 1,
      "outputs": [
        {
          "output_type": "stream",
          "text": [
            "[nltk_data] Downloading package stopwords to /root/nltk_data...\n",
            "[nltk_data]   Package stopwords is already up-to-date!\n",
            "[nltk_data] Downloading package punkt to /root/nltk_data...\n",
            "[nltk_data]   Package punkt is already up-to-date!\n"
          ],
          "name": "stdout"
        },
        {
          "output_type": "execute_result",
          "data": {
            "text/plain": [
              "True"
            ]
          },
          "metadata": {
            "tags": []
          },
          "execution_count": 1
        }
      ]
    },
    {
      "cell_type": "markdown",
      "metadata": {
        "id": "LqYesAPZmHkx",
        "colab_type": "text"
      },
      "source": [
        "Function of heb stop_words"
      ]
    },
    {
      "cell_type": "code",
      "metadata": {
        "id": "_KH15KDbW0n2",
        "colab_type": "code",
        "colab": {}
      },
      "source": [
        "def getStopWords_heb():\n",
        "  return ('אני','.',\"ועל\", 'את', 'אתה', 'אנחנו', 'אתן', 'אתם', 'הם', 'הן', 'היא', 'הוא', 'שלי', 'שלו', 'שלך', 'שלה', 'שלנו', 'שלכם', 'שלכן', 'שלהם', 'שלהן', 'לי', 'לו', 'לה', 'לנו', 'לכם', 'לכן', 'להם', 'להן', 'אותה', 'אותו', 'זה', 'זאת', 'אלה', 'אלו', 'תחת', 'מתחת', 'מעל', 'בין', 'עם', 'עד', 'נגר', 'על', 'אל', 'מול', 'של', 'אצל', 'כמו', 'אחר', 'אותו', 'בלי', 'לפני', 'אחרי', 'מאחורי', 'עלי', 'עליו', 'עליה', 'עליך', 'עלינו', 'עליכם', 'לעיכן', 'עליהם', 'עליהן', 'כל', 'כולם', 'כולן', 'כך', 'ככה', 'כזה', 'זה', 'זות', 'אותי', 'אותה', 'אותם', 'אותך', 'אותו', 'אותן', 'אותנו', 'ואת', 'את', 'אתכם', 'אתכן', 'איתי', 'איתו', 'איתך', 'איתה', 'איתם', 'איתן', 'איתנו', 'איתכם', 'איתכן', 'יהיה', 'תהיה', 'היתי', 'היתה', 'היה', 'להיות', 'עצמי', 'עצמו', 'עצמה', 'עצמם', 'עצמן', 'עצמנו', 'עצמהם', 'עצמהן', 'מי', 'מה', 'איפה', 'היכן', 'במקום שבו', 'אם', 'לאן', 'למקום שבו', 'מקום בו', 'איזה', 'מהיכן', 'איך', 'כיצד', 'באיזו מידה', 'מתי', 'בשעה ש', 'כאשר', 'כש', 'למרות', 'לפני', 'אחרי', 'מאיזו סיבה', 'הסיבה שבגללה', 'למה', 'מדוע', 'לאיזו תכלית', 'כי', 'יש', 'אין', 'אך', 'מנין', 'מאין', 'מאיפה', 'יכל', 'יכלה', 'יכלו', 'יכול', 'יכולה', 'יכולים', 'יכולות', 'יוכלו', 'יוכל', 'מסוגל', 'לא', 'רק', 'אולי', 'אין', 'לאו', 'אי', 'כלל', 'נגד', 'אם', 'עם', 'אל', 'אלה', 'אלו', 'אף', 'על', 'מעל', 'מתחת', 'מצד', 'בשביל', 'לבין', 'באמצע', 'בתוך', 'דרך', 'מבעד', 'באמצעות', 'למעלה', 'למטה', 'מחוץ', 'מן', 'לעבר', 'מכאן', 'כאן', 'הנה', 'הרי', 'פה', 'שם', 'אך', 'ברם', 'שוב', 'אבל', 'מבלי', 'בלי', 'מלבד', 'רק', 'בגלל', 'מכיוון', 'עד', 'אשר', 'ואילו', 'למרות', 'אס', 'כמו', 'כפי', 'אז', 'אחרי', 'כן', 'לכן', 'לפיכך', 'מאד', 'עז', 'מעט', 'מעטים', 'במידה', 'שוב', 'יותר', 'מדי', 'גם', 'כן', 'נו', 'אחר', 'אחרת', 'אחרים', 'אחרות', 'אשר', 'או')\n"
      ],
      "execution_count": 0,
      "outputs": []
    },
    {
      "cell_type": "code",
      "metadata": {
        "id": "NwMb_UsEmZCw",
        "colab_type": "code",
        "colab": {}
      },
      "source": [
        "#remove stop words from sentences:\n",
        "\n",
        "def clean_sentence(sent):\n",
        "  stop_words = getStopWords_heb()\n",
        "  word_tokens = word_tokenize(sent) \n",
        "  \n",
        "  filtered_sentence = [] \n",
        "  for w in word_tokens: \n",
        "    if w not in stop_words: \n",
        "        filtered_sentence.append(w)\n",
        "  return filtered_sentence    "
      ],
      "execution_count": 0,
      "outputs": []
    },
    {
      "cell_type": "markdown",
      "metadata": {
        "id": "gjN-EVQRmNI5",
        "colab_type": "text"
      },
      "source": [
        "Load sentences:"
      ]
    },
    {
      "cell_type": "code",
      "metadata": {
        "id": "shUfXDocoLyx",
        "colab_type": "code",
        "colab": {
          "base_uri": "https://localhost:8080/",
          "height": 34
        },
        "outputId": "26b702c0-49e6-4c5e-ce32-ff01f662d3ba"
      },
      "source": [
        "documentA = \"אם לא מנצחים אז הולכים להרביץ לשחקנים.\"\n",
        "documentB = 'הנצחון זה הדבר החשוב ביותר במשחק על החיים ועל המוות'\n",
        "\n",
        "bagOfWordsA=clean_sentence(documentA)\n",
        "bagOfWordsB=clean_sentence(documentB)\n",
        "\n",
        "uniqueWords = set(bagOfWordsA).union(set(bagOfWordsB))\n",
        "print(uniqueWords)"
      ],
      "execution_count": 4,
      "outputs": [
        {
          "output_type": "stream",
          "text": [
            "{'ביותר', 'הדבר', 'במשחק', 'להרביץ', 'מנצחים', 'הולכים', 'החשוב', 'החיים', 'המוות', 'הנצחון', 'לשחקנים'}\n"
          ],
          "name": "stdout"
        }
      ]
    },
    {
      "cell_type": "code",
      "metadata": {
        "id": "slTantUvU6eE",
        "colab_type": "code",
        "colab": {}
      },
      "source": [
        "#Next, we’ll create a dictionary of words and their occurence for each document in the corpus (collection of documents).\n",
        "numOfWordsA = dict.fromkeys(uniqueWords, 0)\n",
        "for word in bagOfWordsA:\n",
        "    numOfWordsA[word] += 1\n",
        "numOfWordsB = dict.fromkeys(uniqueWords, 0)\n",
        "for word in bagOfWordsB:\n",
        "    numOfWordsB[word] += 1"
      ],
      "execution_count": 0,
      "outputs": []
    },
    {
      "cell_type": "code",
      "metadata": {
        "id": "x49sPatSraHy",
        "colab_type": "code",
        "colab": {
          "base_uri": "https://localhost:8080/",
          "height": 51
        },
        "outputId": "df35238a-a249-4ee4-cf32-856fd8a7fce1"
      },
      "source": [
        "print(numOfWordsA)\n",
        "print(numOfWordsB)"
      ],
      "execution_count": 6,
      "outputs": [
        {
          "output_type": "stream",
          "text": [
            "{'ביותר': 0, 'הדבר': 0, 'במשחק': 0, 'להרביץ': 1, 'מנצחים': 1, 'הולכים': 1, 'החשוב': 0, 'החיים': 0, 'המוות': 0, 'הנצחון': 0, 'לשחקנים': 1}\n",
            "{'ביותר': 1, 'הדבר': 1, 'במשחק': 1, 'להרביץ': 0, 'מנצחים': 0, 'הולכים': 0, 'החשוב': 1, 'החיים': 1, 'המוות': 1, 'הנצחון': 1, 'לשחקנים': 0}\n"
          ],
          "name": "stdout"
        }
      ]
    },
    {
      "cell_type": "markdown",
      "metadata": {
        "id": "o-unlxmnVXal",
        "colab_type": "text"
      },
      "source": [
        "Term Frequency (TF)"
      ]
    },
    {
      "cell_type": "code",
      "metadata": {
        "id": "YpWkMjl5VTqN",
        "colab_type": "code",
        "colab": {}
      },
      "source": [
        "#The following code implements term frequency in python.\n",
        "\n",
        "def computeTF(wordDict, bagOfWords):\n",
        "    tfDict = {}\n",
        "    bagOfWordsCount = len(bagOfWords)\n",
        "    for word, count in wordDict.items():\n",
        "        tfDict[word] = count / float(bagOfWordsCount)\n",
        "    return tfDict\n",
        "\n",
        "#The following lines compute the term frequency for each of our documents.\n",
        "tfA = computeTF(numOfWordsA, bagOfWordsA)\n",
        "tfB = computeTF(numOfWordsB, bagOfWordsB)"
      ],
      "execution_count": 0,
      "outputs": []
    },
    {
      "cell_type": "markdown",
      "metadata": {
        "id": "fP-BWh5gVh9c",
        "colab_type": "text"
      },
      "source": [
        "Inverse Data Frequency (IDF)\n"
      ]
    },
    {
      "cell_type": "code",
      "metadata": {
        "id": "ZVxkfvAsVgR1",
        "colab_type": "code",
        "colab": {}
      },
      "source": [
        "#The following code implements inverse data frequency in python.\n",
        "\n",
        "def computeIDF(documents):\n",
        "    import math\n",
        "    N = len(documents)\n",
        "    \n",
        "    idfDict = dict.fromkeys(documents[0].keys(), 0)\n",
        "    for document in documents:\n",
        "        for word, val in document.items():\n",
        "            if val > 0:\n",
        "                idfDict[word] += 1\n",
        "    \n",
        "    for word, val in idfDict.items():\n",
        "        idfDict[word] = math.log(N / float(val))\n",
        "    return idfDict\n",
        "\n",
        "#The IDF is computed once for all documents.\n",
        "idfs = computeIDF([numOfWordsA, numOfWordsB])\n"
      ],
      "execution_count": 0,
      "outputs": []
    },
    {
      "cell_type": "code",
      "metadata": {
        "id": "XpRQQqSoVuC8",
        "colab_type": "code",
        "colab": {}
      },
      "source": [
        "#Lastly, the TF-IDF is simply the TF multiplied by IDF.\n",
        "def computeTFIDF(tfBagOfWords, idfs):\n",
        "    tfidf = {}\n",
        "    for word, val in tfBagOfWords.items():\n",
        "        tfidf[word] = val * idfs[word]\n",
        "    return tfidf"
      ],
      "execution_count": 0,
      "outputs": []
    },
    {
      "cell_type": "code",
      "metadata": {
        "id": "eUcDIhATV11d",
        "colab_type": "code",
        "colab": {
          "base_uri": "https://localhost:8080/",
          "height": 111
        },
        "outputId": "11f3c06c-b6f8-414f-b24a-d10d52f04860"
      },
      "source": [
        "#Finally, we can compute the TF-IDF scores for all the words in the corpus.\n",
        "tfidfA = computeTFIDF(tfA, idfs)\n",
        "tfidfB = computeTFIDF(tfB, idfs)\n",
        "df = pd.DataFrame([tfidfA, tfidfB])\n",
        "df"
      ],
      "execution_count": 10,
      "outputs": [
        {
          "output_type": "execute_result",
          "data": {
            "text/html": [
              "<div>\n",
              "<style scoped>\n",
              "    .dataframe tbody tr th:only-of-type {\n",
              "        vertical-align: middle;\n",
              "    }\n",
              "\n",
              "    .dataframe tbody tr th {\n",
              "        vertical-align: top;\n",
              "    }\n",
              "\n",
              "    .dataframe thead th {\n",
              "        text-align: right;\n",
              "    }\n",
              "</style>\n",
              "<table border=\"1\" class=\"dataframe\">\n",
              "  <thead>\n",
              "    <tr style=\"text-align: right;\">\n",
              "      <th></th>\n",
              "      <th>ביותר</th>\n",
              "      <th>הדבר</th>\n",
              "      <th>במשחק</th>\n",
              "      <th>להרביץ</th>\n",
              "      <th>מנצחים</th>\n",
              "      <th>הולכים</th>\n",
              "      <th>החשוב</th>\n",
              "      <th>החיים</th>\n",
              "      <th>המוות</th>\n",
              "      <th>הנצחון</th>\n",
              "      <th>לשחקנים</th>\n",
              "    </tr>\n",
              "  </thead>\n",
              "  <tbody>\n",
              "    <tr>\n",
              "      <th>0</th>\n",
              "      <td>0.000000</td>\n",
              "      <td>0.000000</td>\n",
              "      <td>0.000000</td>\n",
              "      <td>0.173287</td>\n",
              "      <td>0.173287</td>\n",
              "      <td>0.173287</td>\n",
              "      <td>0.000000</td>\n",
              "      <td>0.000000</td>\n",
              "      <td>0.000000</td>\n",
              "      <td>0.000000</td>\n",
              "      <td>0.173287</td>\n",
              "    </tr>\n",
              "    <tr>\n",
              "      <th>1</th>\n",
              "      <td>0.099021</td>\n",
              "      <td>0.099021</td>\n",
              "      <td>0.099021</td>\n",
              "      <td>0.000000</td>\n",
              "      <td>0.000000</td>\n",
              "      <td>0.000000</td>\n",
              "      <td>0.099021</td>\n",
              "      <td>0.099021</td>\n",
              "      <td>0.099021</td>\n",
              "      <td>0.099021</td>\n",
              "      <td>0.000000</td>\n",
              "    </tr>\n",
              "  </tbody>\n",
              "</table>\n",
              "</div>"
            ],
            "text/plain": [
              "      ביותר      הדבר     במשחק  ...     המוות    הנצחון   לשחקנים\n",
              "0  0.000000  0.000000  0.000000  ...  0.000000  0.000000  0.173287\n",
              "1  0.099021  0.099021  0.099021  ...  0.099021  0.099021  0.000000\n",
              "\n",
              "[2 rows x 11 columns]"
            ]
          },
          "metadata": {
            "tags": []
          },
          "execution_count": 10
        }
      ]
    },
    {
      "cell_type": "markdown",
      "metadata": {
        "id": "D2Gr6qP4V-D9",
        "colab_type": "text"
      },
      "source": [
        "\n",
        "Rather than manually implementing TF-IDF ourselves, we could use the class provided by sklearn.\n",
        "\n"
      ]
    },
    {
      "cell_type": "code",
      "metadata": {
        "id": "oZRpbLpOV-MN",
        "colab_type": "code",
        "colab": {
          "base_uri": "https://localhost:8080/",
          "height": 111
        },
        "outputId": "e3223d6c-0ea0-41ed-dd11-999acbfa3c35"
      },
      "source": [
        "vectorizer = TfidfVectorizer()\n",
        "vectors = vectorizer.fit_transform([documentA, documentB])\n",
        "feature_names = vectorizer.get_feature_names()\n",
        "dense = vectors.todense()\n",
        "denselist = dense.tolist()\n",
        "df = pd.DataFrame(denselist, columns=feature_names)\n",
        "df"
      ],
      "execution_count": 11,
      "outputs": [
        {
          "output_type": "execute_result",
          "data": {
            "text/html": [
              "<div>\n",
              "<style scoped>\n",
              "    .dataframe tbody tr th:only-of-type {\n",
              "        vertical-align: middle;\n",
              "    }\n",
              "\n",
              "    .dataframe tbody tr th {\n",
              "        vertical-align: top;\n",
              "    }\n",
              "\n",
              "    .dataframe thead th {\n",
              "        text-align: right;\n",
              "    }\n",
              "</style>\n",
              "<table border=\"1\" class=\"dataframe\">\n",
              "  <thead>\n",
              "    <tr style=\"text-align: right;\">\n",
              "      <th></th>\n",
              "      <th>אז</th>\n",
              "      <th>אם</th>\n",
              "      <th>ביותר</th>\n",
              "      <th>במשחק</th>\n",
              "      <th>הדבר</th>\n",
              "      <th>הולכים</th>\n",
              "      <th>החיים</th>\n",
              "      <th>החשוב</th>\n",
              "      <th>המוות</th>\n",
              "      <th>הנצחון</th>\n",
              "      <th>ועל</th>\n",
              "      <th>זה</th>\n",
              "      <th>לא</th>\n",
              "      <th>להרביץ</th>\n",
              "      <th>לשחקנים</th>\n",
              "      <th>מנצחים</th>\n",
              "      <th>על</th>\n",
              "    </tr>\n",
              "  </thead>\n",
              "  <tbody>\n",
              "    <tr>\n",
              "      <th>0</th>\n",
              "      <td>0.377964</td>\n",
              "      <td>0.377964</td>\n",
              "      <td>0.000000</td>\n",
              "      <td>0.000000</td>\n",
              "      <td>0.000000</td>\n",
              "      <td>0.377964</td>\n",
              "      <td>0.000000</td>\n",
              "      <td>0.000000</td>\n",
              "      <td>0.000000</td>\n",
              "      <td>0.000000</td>\n",
              "      <td>0.000000</td>\n",
              "      <td>0.000000</td>\n",
              "      <td>0.377964</td>\n",
              "      <td>0.377964</td>\n",
              "      <td>0.377964</td>\n",
              "      <td>0.377964</td>\n",
              "      <td>0.000000</td>\n",
              "    </tr>\n",
              "    <tr>\n",
              "      <th>1</th>\n",
              "      <td>0.000000</td>\n",
              "      <td>0.000000</td>\n",
              "      <td>0.316228</td>\n",
              "      <td>0.316228</td>\n",
              "      <td>0.316228</td>\n",
              "      <td>0.000000</td>\n",
              "      <td>0.316228</td>\n",
              "      <td>0.316228</td>\n",
              "      <td>0.316228</td>\n",
              "      <td>0.316228</td>\n",
              "      <td>0.316228</td>\n",
              "      <td>0.316228</td>\n",
              "      <td>0.000000</td>\n",
              "      <td>0.000000</td>\n",
              "      <td>0.000000</td>\n",
              "      <td>0.000000</td>\n",
              "      <td>0.316228</td>\n",
              "    </tr>\n",
              "  </tbody>\n",
              "</table>\n",
              "</div>"
            ],
            "text/plain": [
              "         אז        אם     ביותר  ...   לשחקנים    מנצחים        על\n",
              "0  0.377964  0.377964  0.000000  ...  0.377964  0.377964  0.000000\n",
              "1  0.000000  0.000000  0.316228  ...  0.000000  0.000000  0.316228\n",
              "\n",
              "[2 rows x 17 columns]"
            ]
          },
          "metadata": {
            "tags": []
          },
          "execution_count": 11
        }
      ]
    },
    {
      "cell_type": "markdown",
      "metadata": {
        "id": "yxmG7twyzlNO",
        "colab_type": "text"
      },
      "source": [
        "The End"
      ]
    }
  ]
}